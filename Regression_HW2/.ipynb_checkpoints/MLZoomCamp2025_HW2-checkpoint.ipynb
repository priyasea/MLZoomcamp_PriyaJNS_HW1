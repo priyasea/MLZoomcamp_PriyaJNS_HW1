{
 "cells": [
  {
   "cell_type": "code",
   "execution_count": 1,
   "id": "c325d908-ac70-4927-ac90-e85f02bb6c6c",
   "metadata": {},
   "outputs": [],
   "source": [
    "import pandas as pd\n",
    "import numpy as np\n",
    "import seaborn as sns\n",
    "from matplotlib import pyplot as plt\n",
    "%matplotlib inline"
   ]
  },
  {
   "cell_type": "code",
   "execution_count": 2,
   "id": "1dfd0fcf-55c9-4327-8eb5-43f53d29bdf6",
   "metadata": {},
   "outputs": [],
   "source": [
    "df = pd.read_csv('https://raw.githubusercontent.com/alexeygrigorev/datasets/master/car_fuel_efficiency.csv')"
   ]
  },
  {
   "cell_type": "code",
   "execution_count": 3,
   "id": "30aec5ac-88d5-446e-8a87-5d1ab52d2ac2",
   "metadata": {},
   "outputs": [
    {
     "data": {
      "text/html": [
       "<div>\n",
       "<style scoped>\n",
       "    .dataframe tbody tr th:only-of-type {\n",
       "        vertical-align: middle;\n",
       "    }\n",
       "\n",
       "    .dataframe tbody tr th {\n",
       "        vertical-align: top;\n",
       "    }\n",
       "\n",
       "    .dataframe thead th {\n",
       "        text-align: right;\n",
       "    }\n",
       "</style>\n",
       "<table border=\"1\" class=\"dataframe\">\n",
       "  <thead>\n",
       "    <tr style=\"text-align: right;\">\n",
       "      <th></th>\n",
       "      <th>engine_displacement</th>\n",
       "      <th>num_cylinders</th>\n",
       "      <th>horsepower</th>\n",
       "      <th>vehicle_weight</th>\n",
       "      <th>acceleration</th>\n",
       "      <th>model_year</th>\n",
       "      <th>origin</th>\n",
       "      <th>fuel_type</th>\n",
       "      <th>drivetrain</th>\n",
       "      <th>num_doors</th>\n",
       "      <th>fuel_efficiency_mpg</th>\n",
       "    </tr>\n",
       "  </thead>\n",
       "  <tbody>\n",
       "    <tr>\n",
       "      <th>0</th>\n",
       "      <td>170</td>\n",
       "      <td>3.0</td>\n",
       "      <td>159.0</td>\n",
       "      <td>3413.433759</td>\n",
       "      <td>17.7</td>\n",
       "      <td>2003</td>\n",
       "      <td>Europe</td>\n",
       "      <td>Gasoline</td>\n",
       "      <td>All-wheel drive</td>\n",
       "      <td>0.0</td>\n",
       "      <td>13.231729</td>\n",
       "    </tr>\n",
       "    <tr>\n",
       "      <th>1</th>\n",
       "      <td>130</td>\n",
       "      <td>5.0</td>\n",
       "      <td>97.0</td>\n",
       "      <td>3149.664934</td>\n",
       "      <td>17.8</td>\n",
       "      <td>2007</td>\n",
       "      <td>USA</td>\n",
       "      <td>Gasoline</td>\n",
       "      <td>Front-wheel drive</td>\n",
       "      <td>0.0</td>\n",
       "      <td>13.688217</td>\n",
       "    </tr>\n",
       "    <tr>\n",
       "      <th>2</th>\n",
       "      <td>170</td>\n",
       "      <td>NaN</td>\n",
       "      <td>78.0</td>\n",
       "      <td>3079.038997</td>\n",
       "      <td>15.1</td>\n",
       "      <td>2018</td>\n",
       "      <td>Europe</td>\n",
       "      <td>Gasoline</td>\n",
       "      <td>Front-wheel drive</td>\n",
       "      <td>0.0</td>\n",
       "      <td>14.246341</td>\n",
       "    </tr>\n",
       "    <tr>\n",
       "      <th>3</th>\n",
       "      <td>220</td>\n",
       "      <td>4.0</td>\n",
       "      <td>NaN</td>\n",
       "      <td>2542.392402</td>\n",
       "      <td>20.2</td>\n",
       "      <td>2009</td>\n",
       "      <td>USA</td>\n",
       "      <td>Diesel</td>\n",
       "      <td>All-wheel drive</td>\n",
       "      <td>2.0</td>\n",
       "      <td>16.912736</td>\n",
       "    </tr>\n",
       "    <tr>\n",
       "      <th>4</th>\n",
       "      <td>210</td>\n",
       "      <td>1.0</td>\n",
       "      <td>140.0</td>\n",
       "      <td>3460.870990</td>\n",
       "      <td>14.4</td>\n",
       "      <td>2009</td>\n",
       "      <td>Europe</td>\n",
       "      <td>Gasoline</td>\n",
       "      <td>All-wheel drive</td>\n",
       "      <td>2.0</td>\n",
       "      <td>12.488369</td>\n",
       "    </tr>\n",
       "  </tbody>\n",
       "</table>\n",
       "</div>"
      ],
      "text/plain": [
       "   engine_displacement  num_cylinders  horsepower  vehicle_weight  \\\n",
       "0                  170            3.0       159.0     3413.433759   \n",
       "1                  130            5.0        97.0     3149.664934   \n",
       "2                  170            NaN        78.0     3079.038997   \n",
       "3                  220            4.0         NaN     2542.392402   \n",
       "4                  210            1.0       140.0     3460.870990   \n",
       "\n",
       "   acceleration  model_year  origin fuel_type         drivetrain  num_doors  \\\n",
       "0          17.7        2003  Europe  Gasoline    All-wheel drive        0.0   \n",
       "1          17.8        2007     USA  Gasoline  Front-wheel drive        0.0   \n",
       "2          15.1        2018  Europe  Gasoline  Front-wheel drive        0.0   \n",
       "3          20.2        2009     USA    Diesel    All-wheel drive        2.0   \n",
       "4          14.4        2009  Europe  Gasoline    All-wheel drive        2.0   \n",
       "\n",
       "   fuel_efficiency_mpg  \n",
       "0            13.231729  \n",
       "1            13.688217  \n",
       "2            14.246341  \n",
       "3            16.912736  \n",
       "4            12.488369  "
      ]
     },
     "execution_count": 3,
     "metadata": {},
     "output_type": "execute_result"
    }
   ],
   "source": [
    "df.head()"
   ]
  },
  {
   "cell_type": "code",
   "execution_count": 4,
   "id": "0e58ef7e-d24b-4aec-81be-5764a2b9124a",
   "metadata": {},
   "outputs": [
    {
     "data": {
      "text/plain": [
       "Index(['engine_displacement', 'num_cylinders', 'horsepower', 'vehicle_weight',\n",
       "       'acceleration', 'model_year', 'origin', 'fuel_type', 'drivetrain',\n",
       "       'num_doors', 'fuel_efficiency_mpg'],\n",
       "      dtype='object')"
      ]
     },
     "execution_count": 4,
     "metadata": {},
     "output_type": "execute_result"
    }
   ],
   "source": [
    "df.columns"
   ]
  },
  {
   "cell_type": "code",
   "execution_count": 5,
   "id": "037a175d-2c30-41ef-a0af-0741247b0526",
   "metadata": {},
   "outputs": [
    {
     "data": {
      "text/plain": [
       "['origin', 'fuel_type', 'drivetrain']"
      ]
     },
     "execution_count": 5,
     "metadata": {},
     "output_type": "execute_result"
    }
   ],
   "source": [
    "string_columns = list(df.dtypes[df.dtypes == 'object'].index)\n",
    "string_columns\n"
   ]
  },
  {
   "cell_type": "code",
   "execution_count": 6,
   "id": "6b36f02c-70b3-4f1a-b5b7-352a37bca300",
   "metadata": {},
   "outputs": [],
   "source": [
    "for col in string_columns:\n",
    "    df[col] = df[col].str.lower().str.replace(' ', '_')"
   ]
  },
  {
   "cell_type": "code",
   "execution_count": 7,
   "id": "efe4c458-1a85-4e0e-bfc8-941f64b26d59",
   "metadata": {},
   "outputs": [
    {
     "data": {
      "text/html": [
       "<div>\n",
       "<style scoped>\n",
       "    .dataframe tbody tr th:only-of-type {\n",
       "        vertical-align: middle;\n",
       "    }\n",
       "\n",
       "    .dataframe tbody tr th {\n",
       "        vertical-align: top;\n",
       "    }\n",
       "\n",
       "    .dataframe thead th {\n",
       "        text-align: right;\n",
       "    }\n",
       "</style>\n",
       "<table border=\"1\" class=\"dataframe\">\n",
       "  <thead>\n",
       "    <tr style=\"text-align: right;\">\n",
       "      <th></th>\n",
       "      <th>engine_displacement</th>\n",
       "      <th>num_cylinders</th>\n",
       "      <th>horsepower</th>\n",
       "      <th>vehicle_weight</th>\n",
       "      <th>acceleration</th>\n",
       "      <th>model_year</th>\n",
       "      <th>origin</th>\n",
       "      <th>fuel_type</th>\n",
       "      <th>drivetrain</th>\n",
       "      <th>num_doors</th>\n",
       "      <th>fuel_efficiency_mpg</th>\n",
       "    </tr>\n",
       "  </thead>\n",
       "  <tbody>\n",
       "    <tr>\n",
       "      <th>0</th>\n",
       "      <td>170</td>\n",
       "      <td>3.0</td>\n",
       "      <td>159.0</td>\n",
       "      <td>3413.433759</td>\n",
       "      <td>17.7</td>\n",
       "      <td>2003</td>\n",
       "      <td>europe</td>\n",
       "      <td>gasoline</td>\n",
       "      <td>all-wheel_drive</td>\n",
       "      <td>0.0</td>\n",
       "      <td>13.231729</td>\n",
       "    </tr>\n",
       "    <tr>\n",
       "      <th>1</th>\n",
       "      <td>130</td>\n",
       "      <td>5.0</td>\n",
       "      <td>97.0</td>\n",
       "      <td>3149.664934</td>\n",
       "      <td>17.8</td>\n",
       "      <td>2007</td>\n",
       "      <td>usa</td>\n",
       "      <td>gasoline</td>\n",
       "      <td>front-wheel_drive</td>\n",
       "      <td>0.0</td>\n",
       "      <td>13.688217</td>\n",
       "    </tr>\n",
       "    <tr>\n",
       "      <th>2</th>\n",
       "      <td>170</td>\n",
       "      <td>NaN</td>\n",
       "      <td>78.0</td>\n",
       "      <td>3079.038997</td>\n",
       "      <td>15.1</td>\n",
       "      <td>2018</td>\n",
       "      <td>europe</td>\n",
       "      <td>gasoline</td>\n",
       "      <td>front-wheel_drive</td>\n",
       "      <td>0.0</td>\n",
       "      <td>14.246341</td>\n",
       "    </tr>\n",
       "    <tr>\n",
       "      <th>3</th>\n",
       "      <td>220</td>\n",
       "      <td>4.0</td>\n",
       "      <td>NaN</td>\n",
       "      <td>2542.392402</td>\n",
       "      <td>20.2</td>\n",
       "      <td>2009</td>\n",
       "      <td>usa</td>\n",
       "      <td>diesel</td>\n",
       "      <td>all-wheel_drive</td>\n",
       "      <td>2.0</td>\n",
       "      <td>16.912736</td>\n",
       "    </tr>\n",
       "    <tr>\n",
       "      <th>4</th>\n",
       "      <td>210</td>\n",
       "      <td>1.0</td>\n",
       "      <td>140.0</td>\n",
       "      <td>3460.870990</td>\n",
       "      <td>14.4</td>\n",
       "      <td>2009</td>\n",
       "      <td>europe</td>\n",
       "      <td>gasoline</td>\n",
       "      <td>all-wheel_drive</td>\n",
       "      <td>2.0</td>\n",
       "      <td>12.488369</td>\n",
       "    </tr>\n",
       "  </tbody>\n",
       "</table>\n",
       "</div>"
      ],
      "text/plain": [
       "   engine_displacement  num_cylinders  horsepower  vehicle_weight  \\\n",
       "0                  170            3.0       159.0     3413.433759   \n",
       "1                  130            5.0        97.0     3149.664934   \n",
       "2                  170            NaN        78.0     3079.038997   \n",
       "3                  220            4.0         NaN     2542.392402   \n",
       "4                  210            1.0       140.0     3460.870990   \n",
       "\n",
       "   acceleration  model_year  origin fuel_type         drivetrain  num_doors  \\\n",
       "0          17.7        2003  europe  gasoline    all-wheel_drive        0.0   \n",
       "1          17.8        2007     usa  gasoline  front-wheel_drive        0.0   \n",
       "2          15.1        2018  europe  gasoline  front-wheel_drive        0.0   \n",
       "3          20.2        2009     usa    diesel    all-wheel_drive        2.0   \n",
       "4          14.4        2009  europe  gasoline    all-wheel_drive        2.0   \n",
       "\n",
       "   fuel_efficiency_mpg  \n",
       "0            13.231729  \n",
       "1            13.688217  \n",
       "2            14.246341  \n",
       "3            16.912736  \n",
       "4            12.488369  "
      ]
     },
     "execution_count": 7,
     "metadata": {},
     "output_type": "execute_result"
    }
   ],
   "source": [
    "df.head(5)"
   ]
  },
  {
   "cell_type": "markdown",
   "id": "c401ffc2-f575-4255-aace-edc3f77614af",
   "metadata": {},
   "source": [
    "<b> Preparing the dataset\n",
    "Use only the following columns:\n",
    "\n",
    "'engine_displacement',\n",
    "'horsepower',\n",
    "'vehicle_weight',\n",
    "'model_year',\n",
    "'fuel_efficiency_mpg'\n",
    "</b>"
   ]
  },
  {
   "cell_type": "code",
   "execution_count": 8,
   "id": "1103c68e-5cc2-4aa7-b9a6-0ac47741eeba",
   "metadata": {},
   "outputs": [],
   "source": [
    "df_num = df[['engine_displacement',\n",
    "'horsepower',\n",
    "'vehicle_weight',\n",
    "'model_year',\n",
    "'fuel_efficiency_mpg']]\n"
   ]
  },
  {
   "cell_type": "code",
   "execution_count": 9,
   "id": "8ff3568c-3e1e-4a3b-b2a0-69e3230e547c",
   "metadata": {},
   "outputs": [
    {
     "data": {
      "text/html": [
       "<div>\n",
       "<style scoped>\n",
       "    .dataframe tbody tr th:only-of-type {\n",
       "        vertical-align: middle;\n",
       "    }\n",
       "\n",
       "    .dataframe tbody tr th {\n",
       "        vertical-align: top;\n",
       "    }\n",
       "\n",
       "    .dataframe thead th {\n",
       "        text-align: right;\n",
       "    }\n",
       "</style>\n",
       "<table border=\"1\" class=\"dataframe\">\n",
       "  <thead>\n",
       "    <tr style=\"text-align: right;\">\n",
       "      <th></th>\n",
       "      <th>engine_displacement</th>\n",
       "      <th>horsepower</th>\n",
       "      <th>vehicle_weight</th>\n",
       "      <th>model_year</th>\n",
       "      <th>fuel_efficiency_mpg</th>\n",
       "    </tr>\n",
       "  </thead>\n",
       "  <tbody>\n",
       "    <tr>\n",
       "      <th>0</th>\n",
       "      <td>170</td>\n",
       "      <td>159.0</td>\n",
       "      <td>3413.433759</td>\n",
       "      <td>2003</td>\n",
       "      <td>13.231729</td>\n",
       "    </tr>\n",
       "    <tr>\n",
       "      <th>1</th>\n",
       "      <td>130</td>\n",
       "      <td>97.0</td>\n",
       "      <td>3149.664934</td>\n",
       "      <td>2007</td>\n",
       "      <td>13.688217</td>\n",
       "    </tr>\n",
       "    <tr>\n",
       "      <th>2</th>\n",
       "      <td>170</td>\n",
       "      <td>78.0</td>\n",
       "      <td>3079.038997</td>\n",
       "      <td>2018</td>\n",
       "      <td>14.246341</td>\n",
       "    </tr>\n",
       "    <tr>\n",
       "      <th>3</th>\n",
       "      <td>220</td>\n",
       "      <td>NaN</td>\n",
       "      <td>2542.392402</td>\n",
       "      <td>2009</td>\n",
       "      <td>16.912736</td>\n",
       "    </tr>\n",
       "    <tr>\n",
       "      <th>4</th>\n",
       "      <td>210</td>\n",
       "      <td>140.0</td>\n",
       "      <td>3460.870990</td>\n",
       "      <td>2009</td>\n",
       "      <td>12.488369</td>\n",
       "    </tr>\n",
       "  </tbody>\n",
       "</table>\n",
       "</div>"
      ],
      "text/plain": [
       "   engine_displacement  horsepower  vehicle_weight  model_year  \\\n",
       "0                  170       159.0     3413.433759        2003   \n",
       "1                  130        97.0     3149.664934        2007   \n",
       "2                  170        78.0     3079.038997        2018   \n",
       "3                  220         NaN     2542.392402        2009   \n",
       "4                  210       140.0     3460.870990        2009   \n",
       "\n",
       "   fuel_efficiency_mpg  \n",
       "0            13.231729  \n",
       "1            13.688217  \n",
       "2            14.246341  \n",
       "3            16.912736  \n",
       "4            12.488369  "
      ]
     },
     "execution_count": 9,
     "metadata": {},
     "output_type": "execute_result"
    }
   ],
   "source": [
    "df_num.head()"
   ]
  },
  {
   "cell_type": "markdown",
   "id": "31f18264-42d5-43f4-aa9b-75d7fa403340",
   "metadata": {},
   "source": [
    "<b>Exploratory data analysis <br> Does it have a long tail? <br> No </b>"
   ]
  },
  {
   "cell_type": "code",
   "execution_count": 10,
   "id": "3adf029b-e911-4d07-a772-73c71f99c5be",
   "metadata": {},
   "outputs": [
    {
     "data": {
      "image/png": "[encoded data removed]",
      "text/plain": [
       "<Figure size 600x400 with 1 Axes>"
      ]
     },
     "metadata": {},
     "output_type": "display_data"
    }
   ],
   "source": [
    "plt.figure(figsize=(6, 4))\n",
    "\n",
    "sns.histplot(df_num.fuel_efficiency_mpg, bins=40, color='black', alpha=1)\n",
    "plt.ylabel('Frequency')\n",
    "plt.xlabel('fuel_efficiency_mpg')\n",
    "plt.title('Distribution of fuel_efficiency_mpg')\n",
    "\n",
    "plt.show()"
   ]
  },
  {
   "cell_type": "markdown",
   "id": "583ac197-d51b-4f7b-83fc-6c2fa8dd8636",
   "metadata": {},
   "source": [
    "<b>Fuel Efficiency MPG does not have a long tail</b>"
   ]
  },
  {
   "cell_type": "code",
   "execution_count": 11,
   "id": "0c023bb6-c657-466e-8e5f-c29c75eb2cef",
   "metadata": {},
   "outputs": [
    {
     "data": {
      "image/png": "[encoded data removed]",
      "text/plain": [
       "<Figure size 600x400 with 1 Axes>"
      ]
     },
     "metadata": {},
     "output_type": "display_data"
    }
   ],
   "source": [
    "log_mpg = np.log1p(df_num.fuel_efficiency_mpg)\n",
    "\n",
    "plt.figure(figsize=(6, 4))\n",
    "\n",
    "sns.histplot(log_mpg, bins=40, color='black', alpha=1)\n",
    "plt.ylabel('Frequency')\n",
    "plt.xlabel('Log(Fuel Efficeny MPG + 1)')\n",
    "plt.title('Distribution of Fuel Efficiency after log tranformation')\n",
    "\n",
    "plt.show()"
   ]
  },
  {
   "cell_type": "markdown",
   "id": "b526abba-f870-49c4-9c13-9e548c007c93",
   "metadata": {},
   "source": [
    "<b>After looking at the histogram plot, it is not necessary to apply log trasnformation</b>"
   ]
  },
  {
   "cell_type": "code",
   "execution_count": 12,
   "id": "75859624-092a-48bd-bc4a-e46ed184c7dd",
   "metadata": {},
   "outputs": [
    {
     "data": {
      "text/plain": [
       "engine_displacement      0\n",
       "horsepower             708\n",
       "vehicle_weight           0\n",
       "model_year               0\n",
       "fuel_efficiency_mpg      0\n",
       "dtype: int64"
      ]
     },
     "execution_count": 12,
     "metadata": {},
     "output_type": "execute_result"
    }
   ],
   "source": [
    "\n",
    "df_num.isnull().sum()"
   ]
  },
  {
   "cell_type": "markdown",
   "id": "981097b5-a257-4c36-9867-bace9c346960",
   "metadata": {},
   "source": [
    "<b>Question 1 <br>\n",
    "There's one column with missing values. What is it? </b> "
   ]
  },
  {
   "cell_type": "markdown",
   "id": "3de8a371-ca0c-4ef2-8abc-4287bfe8a6c5",
   "metadata": {},
   "source": [
    "<b> Answer: Horsepower </b>"
   ]
  },
  {
   "cell_type": "markdown",
   "id": "8c42441f-08ae-466a-bba8-4fb8d12b7730",
   "metadata": {},
   "source": [
    "<b> Question 2 <br>\n",
    "What's the median (50% percentile) for variable 'horsepower'? <br>\n",
    "Anwer: 149 </b>"
   ]
  },
  {
   "cell_type": "code",
   "execution_count": 13,
   "id": "c2bf0be5-3a05-4aa9-907b-5b77935d3e22",
   "metadata": {},
   "outputs": [
    {
     "data": {
      "text/plain": [
       "np.float64(149.0)"
      ]
     },
     "execution_count": 13,
     "metadata": {},
     "output_type": "execute_result"
    }
   ],
   "source": [
    "df_num['horsepower'].median()"
   ]
  },
  {
   "cell_type": "code",
   "execution_count": 14,
   "id": "b41a7581-df9a-443e-be66-981e3070a960",
   "metadata": {},
   "outputs": [
    {
     "data": {
      "text/html": [
       "<div>\n",
       "<style scoped>\n",
       "    .dataframe tbody tr th:only-of-type {\n",
       "        vertical-align: middle;\n",
       "    }\n",
       "\n",
       "    .dataframe tbody tr th {\n",
       "        vertical-align: top;\n",
       "    }\n",
       "\n",
       "    .dataframe thead th {\n",
       "        text-align: right;\n",
       "    }\n",
       "</style>\n",
       "<table border=\"1\" class=\"dataframe\">\n",
       "  <thead>\n",
       "    <tr style=\"text-align: right;\">\n",
       "      <th></th>\n",
       "      <th>engine_displacement</th>\n",
       "      <th>horsepower</th>\n",
       "      <th>vehicle_weight</th>\n",
       "      <th>model_year</th>\n",
       "      <th>fuel_efficiency_mpg</th>\n",
       "    </tr>\n",
       "  </thead>\n",
       "  <tbody>\n",
       "    <tr>\n",
       "      <th>count</th>\n",
       "      <td>9704.000000</td>\n",
       "      <td>8996.000000</td>\n",
       "      <td>9704.000000</td>\n",
       "      <td>9704.000000</td>\n",
       "      <td>9704.000000</td>\n",
       "    </tr>\n",
       "    <tr>\n",
       "      <th>mean</th>\n",
       "      <td>199.708368</td>\n",
       "      <td>149.657292</td>\n",
       "      <td>3001.280993</td>\n",
       "      <td>2011.484027</td>\n",
       "      <td>14.985243</td>\n",
       "    </tr>\n",
       "    <tr>\n",
       "      <th>std</th>\n",
       "      <td>49.455319</td>\n",
       "      <td>29.879555</td>\n",
       "      <td>497.894860</td>\n",
       "      <td>6.659808</td>\n",
       "      <td>2.556468</td>\n",
       "    </tr>\n",
       "    <tr>\n",
       "      <th>min</th>\n",
       "      <td>10.000000</td>\n",
       "      <td>37.000000</td>\n",
       "      <td>952.681761</td>\n",
       "      <td>2000.000000</td>\n",
       "      <td>6.200971</td>\n",
       "    </tr>\n",
       "    <tr>\n",
       "      <th>25%</th>\n",
       "      <td>170.000000</td>\n",
       "      <td>130.000000</td>\n",
       "      <td>2666.248985</td>\n",
       "      <td>2006.000000</td>\n",
       "      <td>13.267459</td>\n",
       "    </tr>\n",
       "    <tr>\n",
       "      <th>50%</th>\n",
       "      <td>200.000000</td>\n",
       "      <td>149.000000</td>\n",
       "      <td>2993.226296</td>\n",
       "      <td>2012.000000</td>\n",
       "      <td>15.006037</td>\n",
       "    </tr>\n",
       "    <tr>\n",
       "      <th>75%</th>\n",
       "      <td>230.000000</td>\n",
       "      <td>170.000000</td>\n",
       "      <td>3334.957039</td>\n",
       "      <td>2017.000000</td>\n",
       "      <td>16.707965</td>\n",
       "    </tr>\n",
       "    <tr>\n",
       "      <th>max</th>\n",
       "      <td>380.000000</td>\n",
       "      <td>271.000000</td>\n",
       "      <td>4739.077089</td>\n",
       "      <td>2023.000000</td>\n",
       "      <td>25.967222</td>\n",
       "    </tr>\n",
       "  </tbody>\n",
       "</table>\n",
       "</div>"
      ],
      "text/plain": [
       "       engine_displacement   horsepower  vehicle_weight   model_year  \\\n",
       "count          9704.000000  8996.000000     9704.000000  9704.000000   \n",
       "mean            199.708368   149.657292     3001.280993  2011.484027   \n",
       "std              49.455319    29.879555      497.894860     6.659808   \n",
       "min              10.000000    37.000000      952.681761  2000.000000   \n",
       "25%             170.000000   130.000000     2666.248985  2006.000000   \n",
       "50%             200.000000   149.000000     2993.226296  2012.000000   \n",
       "75%             230.000000   170.000000     3334.957039  2017.000000   \n",
       "max             380.000000   271.000000     4739.077089  2023.000000   \n",
       "\n",
       "       fuel_efficiency_mpg  \n",
       "count          9704.000000  \n",
       "mean             14.985243  \n",
       "std               2.556468  \n",
       "min               6.200971  \n",
       "25%              13.267459  \n",
       "50%              15.006037  \n",
       "75%              16.707965  \n",
       "max              25.967222  "
      ]
     },
     "execution_count": 14,
     "metadata": {},
     "output_type": "execute_result"
    }
   ],
   "source": [
    "df_num.describe()"
   ]
  },
  {
   "cell_type": "code",
   "execution_count": 15,
   "id": "a6c22037-c553-4c16-aea2-4eaba0f5befa",
   "metadata": {},
   "outputs": [
    {
     "data": {
      "text/plain": [
       "engine_displacement      36\n",
       "horsepower              192\n",
       "vehicle_weight         9704\n",
       "model_year               24\n",
       "fuel_efficiency_mpg    9704\n",
       "dtype: int64"
      ]
     },
     "execution_count": 15,
     "metadata": {},
     "output_type": "execute_result"
    }
   ],
   "source": [
    "df_num.nunique()"
   ]
  },
  {
   "cell_type": "markdown",
   "id": "71b2beca-7c67-4c5f-92d5-fb6e7dc1119f",
   "metadata": {},
   "source": [
    "<b> The describe method also shows median of 149 at 50th percentile. </b>"
   ]
  },
  {
   "cell_type": "markdown",
   "id": "e898cce5-1696-4492-973a-0a56d5944cd3",
   "metadata": {},
   "source": [
    "<b>Prepare and split the dataset<br>\n",
    "Shuffle the dataset (the filtered one you created above), use seed 42.<br>\n",
    "Split your data in train/val/test sets, with 60%/20%/20% distribution.</b>"
   ]
  },
  {
   "cell_type": "code",
   "execution_count": 37,
   "id": "7b5c645f-e3ba-4e90-91aa-4b33a8773c14",
   "metadata": {},
   "outputs": [],
   "source": [
    "# This function returns train test validation split for the dataset\n",
    "def train_val_test_split(df, seed):\n",
    "    np.random.seed(seed)\n",
    "\n",
    "    n = len(df)\n",
    "\n",
    "    n_val = int(0.2 * n)\n",
    "    n_test = int(0.2 * n)\n",
    "    n_train = n - (n_val + n_test)\n",
    "\n",
    "    idx = np.arange(n)\n",
    "    np.random.shuffle(idx)\n",
    "\n",
    "    df_shuffled = df.iloc[idx]\n",
    "\n",
    "    df_train = df_shuffled.iloc[:n_train].copy()\n",
    "    df_val = df_shuffled.iloc[n_train:n_train+n_val].copy()\n",
    "    df_test = df_shuffled.iloc[n_train+n_val:].copy()\n",
    "\n",
    "    y_train = df_train.fuel_efficiency_mpg.values\n",
    "    y_val = df_val.fuel_efficiency_mpg.values\n",
    "    y_test = df_test.fuel_efficiency_mpg.values\n",
    "\n",
    "\n",
    "    del df_train['fuel_efficiency_mpg']\n",
    "    del df_val['fuel_efficiency_mpg']\n",
    "    del df_test['fuel_efficiency_mpg']\n",
    "    return df_train, df_val, df_test, y_train, y_val, y_test "
   ]
  },
  {
   "cell_type": "code",
   "execution_count": 38,
   "id": "87cfc6b7-fed8-4482-9f24-a9a596dc2132",
   "metadata": {},
   "outputs": [
    {
     "data": {
      "text/plain": [
       "np.float64(149.54476367006487)"
      ]
     },
     "execution_count": 38,
     "metadata": {},
     "output_type": "execute_result"
    }
   ],
   "source": [
    "df_train, df_val, df_test, y_train, y_val, y_test = train_val_test_split(df_num,42)\n",
    "horsepower_mean = df_train['horsepower'].mean()\n",
    "horsepower_mean"
   ]
  },
  {
   "cell_type": "code",
   "execution_count": 39,
   "id": "c16b7062-67b1-43fc-83b6-0e2f76443731",
   "metadata": {},
   "outputs": [],
   "source": [
    "def prepare_XusingMean(df,horsepower_mean):\n",
    "    df = df.fillna(horsepower_mean)\n",
    "    X = df.values\n",
    "    return X"
   ]
  },
  {
   "cell_type": "code",
   "execution_count": 40,
   "id": "ffb2c74e-4572-4fca-b2b9-95fc09085501",
   "metadata": {},
   "outputs": [],
   "source": [
    "def prepare_X(df):\n",
    "    df = df.fillna(0)\n",
    "    X = df.values\n",
    "    return X"
   ]
  },
  {
   "cell_type": "code",
   "execution_count": 41,
   "id": "4f81536c-db06-4988-adef-676ef576f61f",
   "metadata": {},
   "outputs": [],
   "source": [
    "def train_linear_regression(X, y):\n",
    "    ones = np.ones(X.shape[0])\n",
    "    X = np.column_stack([ones, X])\n",
    "\n",
    "    XTX = X.T.dot(X)\n",
    "    XTX_inv = np.linalg.inv(XTX)\n",
    "    w = XTX_inv.dot(X.T).dot(y)\n",
    "    \n",
    "    return w[0], w[1:]"
   ]
  },
  {
   "cell_type": "markdown",
   "id": "69193471-9328-42dc-9083-d4236d5c34bf",
   "metadata": {},
   "source": [
    "<b> Question 3\n",
    "We need to deal with missing values for the column from Q1. <br>\n",
    "We have two options: fill it with 0 or with the mean of this variable. <br>\n",
    "Try both options. For each, train a linear regression model without regularization using the code from the lessons.<br>\n",
    "For computing the mean, use the training only! <br>\n",
    "Use the validation dataset to evaluate the models and compare the RMSE of each option. <br>\n",
    "Round the RMSE scores to 2 decimal digits using round(score, 2) <br>\n",
    "Which option gives better RMSE? <br> Ans: Mean Option</b>"
   ]
  },
  {
   "cell_type": "markdown",
   "id": "d1cd7018-b00b-4fa1-87e3-9d437bae6551",
   "metadata": {},
   "source": [
    "<b> Option1: Preparing Linear Regression Model using 0 for missing values of HorsePower"
   ]
  },
  {
   "cell_type": "code",
   "execution_count": 42,
   "id": "6e238d61-4854-4fa2-9b27-8d7f911d1ca1",
   "metadata": {},
   "outputs": [],
   "source": [
    "X_train = prepare_X(df_train)\n",
    "w_0, w = train_linear_regression(X_train, y_train)"
   ]
  },
  {
   "cell_type": "code",
   "execution_count": 43,
   "id": "6beefb24-3f25-46d3-8a66-2e96e248ec89",
   "metadata": {},
   "outputs": [],
   "source": [
    "def rmse(y, y_pred):\n",
    "    error = y_pred - y\n",
    "    mse = (error ** 2).mean()\n",
    "    score = round(np.sqrt(mse), 2)\n",
    "    return score"
   ]
  },
  {
   "cell_type": "code",
   "execution_count": 44,
   "id": "350aa312-0664-44d9-b8e5-f62749a2aa99",
   "metadata": {},
   "outputs": [],
   "source": [
    "X_val = prepare_X(df_val)\n",
    "y_pred = w_0 + X_val.dot(w)"
   ]
  },
  {
   "cell_type": "markdown",
   "id": "212e7a7f-60cb-4acc-b433-4ef5c98fc2d6",
   "metadata": {},
   "source": [
    "<b> RMSE value on the Validation dataset after filling the dataframe with zeros for missing values are </b>"
   ]
  },
  {
   "cell_type": "code",
   "execution_count": 45,
   "id": "013a25ab-1fa9-47a9-adb9-e717d3f28ed2",
   "metadata": {},
   "outputs": [
    {
     "data": {
      "text/plain": [
       "np.float64(0.52)"
      ]
     },
     "execution_count": 45,
     "metadata": {},
     "output_type": "execute_result"
    }
   ],
   "source": [
    "rmse(y_val, y_pred)"
   ]
  },
  {
   "cell_type": "markdown",
   "id": "f7250a33-f47c-4e93-a708-352a51bc233d",
   "metadata": {},
   "source": [
    "<b> Option2: Preparing Linear Regression Model using mean for missing values of Horsepower"
   ]
  },
  {
   "cell_type": "code",
   "execution_count": 46,
   "id": "5c1237f0-e04a-4b38-b1db-56def5d3f3df",
   "metadata": {},
   "outputs": [],
   "source": [
    "X_train = prepare_XusingMean(df_train, horsepower_mean)\n",
    "w_0, w = train_linear_regression(X_train, y_train)"
   ]
  },
  {
   "cell_type": "code",
   "execution_count": 47,
   "id": "b8f5356b-931d-4ab5-a3c1-4258878d334f",
   "metadata": {},
   "outputs": [],
   "source": [
    "X_val = prepare_XusingMean(df_val, horsepower_mean)\n",
    "y_pred = w_0 + X_val.dot(w)"
   ]
  },
  {
   "cell_type": "markdown",
   "id": "eae338f5-bdcc-4796-92d4-f8f0b70f1d2a",
   "metadata": {},
   "source": [
    "<b> RMSE value on the Validation dataset after filling the dataframe with Mean for missing values of Horsepower are </b>"
   ]
  },
  {
   "cell_type": "code",
   "execution_count": 48,
   "id": "50c9856b-043a-4b05-b3c2-45abf991131e",
   "metadata": {},
   "outputs": [
    {
     "data": {
      "text/plain": [
       "np.float64(0.46)"
      ]
     },
     "execution_count": 48,
     "metadata": {},
     "output_type": "execute_result"
    }
   ],
   "source": [
    "rmse(y_val, y_pred)"
   ]
  },
  {
   "cell_type": "markdown",
   "id": "7bb62e9c-5c41-4631-80f6-346fcc943720",
   "metadata": {},
   "source": [
    "<b> Which option gives better RMSE? <br> The mean option is giving better RMSE of 0.46 than 0 option which gives RMSE of 0.52</b>"
   ]
  },
  {
   "cell_type": "markdown",
   "id": "897e75a5-0b10-489c-82e0-4d87d6de73df",
   "metadata": {},
   "source": [
    "<b>Question 4 <br>\n",
    "Now let's train a regularized linear regression. <br>\n",
    "For this question, fill the NAs with 0. <br>\n",
    "Try different values of r from this list: [0, 0.01, 0.1, 1, 5, 10, 100]. <br>\n",
    "Use RMSE to evaluate the model on the validation dataset.<br>\n",
    "Round the RMSE scores to 2 decimal digits.<br>\n",
    "Which r gives the best RMSE?\n",
    "</b>"
   ]
  },
  {
   "cell_type": "code",
   "execution_count": 28,
   "id": "3fa87055-146e-4a12-a487-55a403b1dbb8",
   "metadata": {},
   "outputs": [],
   "source": [
    "def train_linear_regression_reg(X, y, r=0.0):\n",
    "    ones = np.ones(X.shape[0])\n",
    "    X = np.column_stack([ones, X])\n",
    "\n",
    "    XTX = X.T.dot(X)\n",
    "    reg = r * np.eye(XTX.shape[0])\n",
    "    XTX = XTX + reg\n",
    "\n",
    "    XTX_inv = np.linalg.inv(XTX)\n",
    "    w = XTX_inv.dot(X.T).dot(y)\n",
    "    \n",
    "    return w[0], w[1:]"
   ]
  },
  {
   "cell_type": "code",
   "execution_count": 29,
   "id": "c2feebf8-ca11-4b69-b05e-6caf37450931",
   "metadata": {},
   "outputs": [
    {
     "name": "stdout",
     "output_type": "stream",
     "text": [
      "Parameter values are: \n",
      "28.82736547365895 [ 9.93613218e-05  3.54221891e-03 -5.01328015e-03  3.42992870e-04]\n",
      "Regularization value      0 RMSE value 0.52\n",
      "Parameter values are: \n",
      "24.92683841981215 [ 0.00010643  0.0035422  -0.00501248  0.00228024]\n",
      "Regularization value   0.01 RMSE value 0.52\n",
      "Parameter values are: \n",
      "11.239661084581073 [ 0.00013125  0.00354212 -0.00500966  0.00907815]\n",
      "Regularization value    0.1 RMSE value 0.52\n",
      "Parameter values are: \n",
      "1.7315979411219746 [ 0.00014849  0.00354207 -0.00500771  0.01380046]\n",
      "Regularization value      1 RMSE value 0.52\n",
      "Parameter values are: \n",
      "0.3638075020482907 [ 0.00015098  0.00354206 -0.00500743  0.01447979]\n",
      "Regularization value      5 RMSE value 0.52\n",
      "Parameter values are: \n",
      "0.18306246621686947 [ 0.0001513   0.00354206 -0.00500739  0.01456956]\n",
      "Regularization value     10 RMSE value 0.52\n",
      "Parameter values are: \n",
      "0.01841801730688404 [ 0.00015161  0.00354204 -0.00500736  0.01465133]\n",
      "Regularization value    100 RMSE value 0.52\n"
     ]
    }
   ],
   "source": [
    "X_train = prepare_X(df_train)\n",
    "X_val = prepare_X(df_val)\n",
    "\n",
    "for r in [0, 0.01, 0.1, 1, 5, 10, 100]:\n",
    "    w_0, w = train_linear_regression_reg(X_train, y_train, r=r)\n",
    "    print('Parameter values are: ') \n",
    "    print(w_0, w)\n",
    "    y_pred = w_0 + X_val.dot(w)\n",
    "    print('Regularization value %6s' %r, 'RMSE value' , rmse(y_val, y_pred))"
   ]
  },
  {
   "cell_type": "markdown",
   "id": "a800c4a4-cfd2-4f3f-a85f-07d567c261aa",
   "metadata": {},
   "source": [
    "<b> We are getting same RMSE for all values of r ,hence choosing smallest r which is 0.01 </b>"
   ]
  },
  {
   "cell_type": "markdown",
   "id": "18cde239-3d3b-451b-8502-3d840bf3b559",
   "metadata": {},
   "source": []
  },
  {
   "cell_type": "markdown",
   "id": "77af708b-1645-4074-a9ad-efa76abb6a19",
   "metadata": {},
   "source": [
    "<b> We used seed 42 for splitting the data. Let's find out how selecting the seed influences our score. <br> \n",
    "Try different seed values: [0, 1, 2, 3, 4, 5, 6, 7, 8, 9]. <br> \n",
    "For each seed, do the train/validation/test split with 60%/20%/20% distribution. <br>\n",
    "Fill the missing values with 0 and train a model without regularization. <br> \n",
    "For each seed, evaluate the model on the validation dataset and collect the RMSE scores. <br>\n",
    "What's the standard deviation of all the scores? To compute the standard deviation, use np.std. <br>\n",
    "Round the result to 3 decimal digits (round(std, 3)) <br>\n",
    "Ans:0.007 </b>"
   ]
  },
  {
   "cell_type": "code",
   "execution_count": 33,
   "id": "925bdc62-64c3-4738-960a-bdba8a60433a",
   "metadata": {},
   "outputs": [
    {
     "name": "stdout",
     "output_type": "stream",
     "text": [
      "Parameter values are: \n",
      "27.376388746528697 [ 0.00018021  0.00369662 -0.00500077  0.00102818]\n",
      "Seed value      0 RMSE value 0.52\n",
      "Parameter values are: \n",
      "29.02246855416138 [ 9.11368124e-05  3.52555390e-03 -5.01868823e-03  2.57195231e-04]\n",
      "Seed value      1 RMSE value 0.52\n",
      "Parameter values are: \n",
      "25.904357611049043 [ 0.0001526   0.00378541 -0.00500641  0.00176812]\n",
      "Seed value      2 RMSE value 0.52\n",
      "Parameter values are: \n",
      "28.015450067910564 [ 0.0001811   0.0037275  -0.00500894  0.0007184 ]\n",
      "Seed value      3 RMSE value 0.52\n",
      "Parameter values are: \n",
      "25.93400040472635 [ 0.00019805  0.00351731 -0.00502054  0.00178834]\n",
      "Seed value      4 RMSE value 0.51\n",
      "Parameter values are: \n",
      "25.89950696063403 [-1.25174912e-05  3.81581131e-03 -5.02060073e-03  1.80614812e-03]\n",
      "Seed value      5 RMSE value 0.53\n",
      "Parameter values are: \n",
      "25.917230934138303 [ 5.89281469e-05  3.53575704e-03 -5.00987070e-03  1.79093559e-03]\n",
      "Seed value      6 RMSE value 0.53\n",
      "Parameter values are: \n",
      "28.414324731275375 [ 0.00012758  0.00332914 -0.0050143   0.00056398]\n",
      "Seed value      7 RMSE value 0.51\n",
      "Parameter values are: \n",
      "26.47841782687521 [ 0.00023176  0.00378573 -0.00501966  0.00149612]\n",
      "Seed value      8 RMSE value 0.51\n",
      "Parameter values are: \n",
      "27.513852581224892 [-7.49245681e-05  3.51310422e-03 -5.02056083e-03  1.02939922e-03]\n",
      "Seed value      9 RMSE value 0.51\n",
      "0.007\n"
     ]
    }
   ],
   "source": [
    "score_list = []\n",
    "for seed in [0, 1, 2, 3, 4, 5, 6, 7, 8, 9]:\n",
    "    df_train, df_val, df_test, y_train, y_val, y_test = train_val_test_split(df_num,seed)\n",
    "    X_train = prepare_X(df_train)\n",
    "    w_0, w = train_linear_regression(X_train, y_train)\n",
    "    print('Parameter values are: ') \n",
    "    print(w_0, w)\n",
    "    X_val = prepare_X(df_val)\n",
    "    y_pred = w_0 + X_val.dot(w)\n",
    "    score_list.append(rmse(y_val, y_pred))\n",
    "    print('Seed value %6s' %seed, 'RMSE value' ,score_list[seed] )\n",
    "\n",
    "score = np.array(score_list)\n",
    "std_value = round(np.std(score),3)\n",
    "print(std_value)\n",
    "    "
   ]
  },
  {
   "cell_type": "markdown",
   "id": "f365fcac-8bd0-429e-8c4c-0f7d5f8a7835",
   "metadata": {},
   "source": [
    "Split the dataset like previously, use seed 9.\n",
    "Combine train and validation datasets.\n",
    "Fill the missing values with 0 and train a model with r=0.001.\n",
    "What's the RMSE on the test dataset?"
   ]
  },
  {
   "cell_type": "code",
   "execution_count": 53,
   "id": "950988c0-d028-4fcb-84e6-50cd5d5e2c4f",
   "metadata": {},
   "outputs": [
    {
     "name": "stdout",
     "output_type": "stream",
     "text": [
      "Parameter values are: \n",
      "26.946834792836274 [ 1.45147512e-05  3.56475200e-03 -5.01712541e-03  1.29155334e-03]\n",
      "RMSE value 0.52\n"
     ]
    }
   ],
   "source": [
    "    df_train, df_val, df_test, y_train, y_val, y_test = train_val_test_split(df_num,9)\n",
    "    X_combined = prepare_X(pd.concat([df_train,df_val]))\n",
    "    y_combined = np.concatenate((y_train, y_val))\n",
    "    w_0, w = train_linear_regression_reg(X_combined, y_combined, 0.001)\n",
    "    print('Parameter values are: ') \n",
    "    print(w_0, w)\n",
    "    X_test = prepare_X(df_test)\n",
    "    y_pred = w_0 + X_test.dot(w)\n",
    "    rmse_score = rmse(y_test, y_pred)\n",
    "    print('RMSE value' ,rmse_score )"
   ]
  },
  {
   "cell_type": "code",
   "execution_count": null,
   "id": "02b5b434-45c6-4683-a03f-77d371bf13e7",
   "metadata": {},
   "outputs": [],
   "source": []
  },
  {
   "cell_type": "code",
   "execution_count": null,
   "id": "b9b88c9c-be00-4fde-91bb-0e78cd5d7a76",
   "metadata": {},
   "outputs": [],
   "source": []
  }
 ],
 "metadata": {
  "kernelspec": {
   "display_name": "Python 3 (ipykernel)",
   "language": "python",
   "name": "python3"
  },
  "language_info": {
   "codemirror_mode": {
    "name": "ipython",
    "version": 3
   },
   "file_extension": ".py",
   "mimetype": "text/x-python",
   "name": "python",
   "nbconvert_exporter": "python",
   "pygments_lexer": "ipython3",
   "version": "3.12.1"
  }
 },
 "nbformat": 4,
 "nbformat_minor": 5
}
