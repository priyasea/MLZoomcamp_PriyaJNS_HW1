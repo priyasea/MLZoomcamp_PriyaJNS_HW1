{
 "cells": [
  {
   "cell_type": "code",
   "execution_count": 1,
   "id": "d1f1fb94-b2f8-4d35-83a4-b214694a5201",
   "metadata": {},
   "outputs": [],
   "source": [
    "import pandas as pd\n",
    "import numpy as np\n"
   ]
  },
  {
   "cell_type": "markdown",
   "id": "79a22af9-9f00-45e7-80f5-6c810aef7653",
   "metadata": {},
   "source": [
    "<b> Q1. Pandas version <br>\n",
    "Ans: 2.3.1 </b>"
   ]
  },
  {
   "cell_type": "code",
   "execution_count": 2,
   "id": "d37b61ae-366d-4aa7-a68d-a8fd5fa3f20f",
   "metadata": {},
   "outputs": [
    {
     "data": {
      "text/plain": [
       "'2.3.1'"
      ]
     },
     "execution_count": 2,
     "metadata": {},
     "output_type": "execute_result"
    }
   ],
   "source": [
    "pd.__version__"
   ]
  },
  {
   "cell_type": "code",
   "execution_count": 3,
   "id": "5ed07f94-7100-4718-9096-4999fa546781",
   "metadata": {},
   "outputs": [],
   "source": [
    "df = pd.read_csv('https://raw.githubusercontent.com/alexeygrigorev/datasets/master/car_fuel_efficiency.csv')"
   ]
  },
  {
   "cell_type": "code",
   "execution_count": 4,
   "id": "0c6c25ca-7a6b-42a2-a820-f87dc2171a1d",
   "metadata": {},
   "outputs": [
    {
     "data": {
      "text/html": [
       "<div>\n",
       "<style scoped>\n",
       "    .dataframe tbody tr th:only-of-type {\n",
       "        vertical-align: middle;\n",
       "    }\n",
       "\n",
       "    .dataframe tbody tr th {\n",
       "        vertical-align: top;\n",
       "    }\n",
       "\n",
       "    .dataframe thead th {\n",
       "        text-align: right;\n",
       "    }\n",
       "</style>\n",
       "<table border=\"1\" class=\"dataframe\">\n",
       "  <thead>\n",
       "    <tr style=\"text-align: right;\">\n",
       "      <th></th>\n",
       "      <th>engine_displacement</th>\n",
       "      <th>num_cylinders</th>\n",
       "      <th>horsepower</th>\n",
       "      <th>vehicle_weight</th>\n",
       "      <th>acceleration</th>\n",
       "      <th>model_year</th>\n",
       "      <th>origin</th>\n",
       "      <th>fuel_type</th>\n",
       "      <th>drivetrain</th>\n",
       "      <th>num_doors</th>\n",
       "      <th>fuel_efficiency_mpg</th>\n",
       "    </tr>\n",
       "  </thead>\n",
       "  <tbody>\n",
       "    <tr>\n",
       "      <th>0</th>\n",
       "      <td>170</td>\n",
       "      <td>3.0</td>\n",
       "      <td>159.0</td>\n",
       "      <td>3413.433759</td>\n",
       "      <td>17.7</td>\n",
       "      <td>2003</td>\n",
       "      <td>Europe</td>\n",
       "      <td>Gasoline</td>\n",
       "      <td>All-wheel drive</td>\n",
       "      <td>0.0</td>\n",
       "      <td>13.231729</td>\n",
       "    </tr>\n",
       "    <tr>\n",
       "      <th>1</th>\n",
       "      <td>130</td>\n",
       "      <td>5.0</td>\n",
       "      <td>97.0</td>\n",
       "      <td>3149.664934</td>\n",
       "      <td>17.8</td>\n",
       "      <td>2007</td>\n",
       "      <td>USA</td>\n",
       "      <td>Gasoline</td>\n",
       "      <td>Front-wheel drive</td>\n",
       "      <td>0.0</td>\n",
       "      <td>13.688217</td>\n",
       "    </tr>\n",
       "    <tr>\n",
       "      <th>2</th>\n",
       "      <td>170</td>\n",
       "      <td>NaN</td>\n",
       "      <td>78.0</td>\n",
       "      <td>3079.038997</td>\n",
       "      <td>15.1</td>\n",
       "      <td>2018</td>\n",
       "      <td>Europe</td>\n",
       "      <td>Gasoline</td>\n",
       "      <td>Front-wheel drive</td>\n",
       "      <td>0.0</td>\n",
       "      <td>14.246341</td>\n",
       "    </tr>\n",
       "    <tr>\n",
       "      <th>3</th>\n",
       "      <td>220</td>\n",
       "      <td>4.0</td>\n",
       "      <td>NaN</td>\n",
       "      <td>2542.392402</td>\n",
       "      <td>20.2</td>\n",
       "      <td>2009</td>\n",
       "      <td>USA</td>\n",
       "      <td>Diesel</td>\n",
       "      <td>All-wheel drive</td>\n",
       "      <td>2.0</td>\n",
       "      <td>16.912736</td>\n",
       "    </tr>\n",
       "    <tr>\n",
       "      <th>4</th>\n",
       "      <td>210</td>\n",
       "      <td>1.0</td>\n",
       "      <td>140.0</td>\n",
       "      <td>3460.870990</td>\n",
       "      <td>14.4</td>\n",
       "      <td>2009</td>\n",
       "      <td>Europe</td>\n",
       "      <td>Gasoline</td>\n",
       "      <td>All-wheel drive</td>\n",
       "      <td>2.0</td>\n",
       "      <td>12.488369</td>\n",
       "    </tr>\n",
       "  </tbody>\n",
       "</table>\n",
       "</div>"
      ],
      "text/plain": [
       "   engine_displacement  num_cylinders  horsepower  vehicle_weight  \\\n",
       "0                  170            3.0       159.0     3413.433759   \n",
       "1                  130            5.0        97.0     3149.664934   \n",
       "2                  170            NaN        78.0     3079.038997   \n",
       "3                  220            4.0         NaN     2542.392402   \n",
       "4                  210            1.0       140.0     3460.870990   \n",
       "\n",
       "   acceleration  model_year  origin fuel_type         drivetrain  num_doors  \\\n",
       "0          17.7        2003  Europe  Gasoline    All-wheel drive        0.0   \n",
       "1          17.8        2007     USA  Gasoline  Front-wheel drive        0.0   \n",
       "2          15.1        2018  Europe  Gasoline  Front-wheel drive        0.0   \n",
       "3          20.2        2009     USA    Diesel    All-wheel drive        2.0   \n",
       "4          14.4        2009  Europe  Gasoline    All-wheel drive        2.0   \n",
       "\n",
       "   fuel_efficiency_mpg  \n",
       "0            13.231729  \n",
       "1            13.688217  \n",
       "2            14.246341  \n",
       "3            16.912736  \n",
       "4            12.488369  "
      ]
     },
     "execution_count": 4,
     "metadata": {},
     "output_type": "execute_result"
    }
   ],
   "source": [
    "df.head()"
   ]
  },
  {
   "cell_type": "markdown",
   "id": "6cfa1984-75d1-467c-9154-468ae96bb8f9",
   "metadata": {},
   "source": [
    "<b>Q2. Records count <br>\n",
    "How many records are in the dataset? <br>\n",
    "Ans is 9704 <br>\n",
    "Used  Shape command</b>"
   ]
  },
  {
   "cell_type": "code",
   "execution_count": 5,
   "id": "816fb203-4870-41e7-9a18-06f2cf2e81fb",
   "metadata": {},
   "outputs": [
    {
     "data": {
      "text/plain": [
       "9704"
      ]
     },
     "execution_count": 5,
     "metadata": {},
     "output_type": "execute_result"
    }
   ],
   "source": [
    "df.shape[0]"
   ]
  },
  {
   "cell_type": "markdown",
   "id": "fade93b1-aa1c-4b6f-988a-5d226554597a",
   "metadata": {},
   "source": [
    "<b> Q3. Fuel types <br>\n",
    "How many fuel types are presented in the dataset? <br>\n",
    "Ans is 2 <br>\n",
    "Used nunique command </b>"
   ]
  },
  {
   "cell_type": "code",
   "execution_count": 9,
   "id": "36f201ca-1bf8-457f-bffa-ac36f2e9cb3e",
   "metadata": {},
   "outputs": [
    {
     "data": {
      "text/plain": [
       "2"
      ]
     },
     "execution_count": 9,
     "metadata": {},
     "output_type": "execute_result"
    }
   ],
   "source": [
    "df['fuel_type'].nunique()"
   ]
  },
  {
   "cell_type": "markdown",
   "id": "bb47da38-604f-4c3a-b418-9df99810744e",
   "metadata": {},
   "source": [
    "<b> Q4. Missing values <br>\n",
    "How many columns in the dataset have missing values? <br>\n",
    "Ans is 4 </b>"
   ]
  },
  {
   "cell_type": "code",
   "execution_count": 6,
   "id": "9b4a4d9e-6424-470f-a189-ada5d52eb64b",
   "metadata": {},
   "outputs": [
    {
     "data": {
      "text/plain": [
       "engine_displacement      0\n",
       "num_cylinders          482\n",
       "horsepower             708\n",
       "vehicle_weight           0\n",
       "acceleration           930\n",
       "model_year               0\n",
       "origin                   0\n",
       "fuel_type                0\n",
       "drivetrain               0\n",
       "num_doors              502\n",
       "fuel_efficiency_mpg      0\n",
       "dtype: int64"
      ]
     },
     "execution_count": 6,
     "metadata": {},
     "output_type": "execute_result"
    }
   ],
   "source": [
    "df.isnull().sum()"
   ]
  },
  {
   "cell_type": "markdown",
   "id": "63045774-c39d-4701-8b14-435544a5ea0d",
   "metadata": {},
   "source": [
    "<b>Q5. Max fuel efficiency <br>\n",
    "What's the maximum fuel efficiency of cars from Asia?<br>\n",
    "Ans is 23.75 <br>\n",
    "First created separate dataframe for Asia and used max command to see the max value of fuel_efficieny_mpg column </b>"
   ]
  },
  {
   "cell_type": "code",
   "execution_count": 12,
   "id": "13efec55-f9c7-4775-a75d-929d4bde9774",
   "metadata": {},
   "outputs": [
    {
     "data": {
      "text/plain": [
       "np.float64(23.759122836520497)"
      ]
     },
     "execution_count": 12,
     "metadata": {},
     "output_type": "execute_result"
    }
   ],
   "source": [
    "df_asia = df[(df['origin'] == 'Asia')]\n",
    "df_asia['fuel_efficiency_mpg'].max()"
   ]
  },
  {
   "cell_type": "markdown",
   "id": "5ab8cd37-3931-464b-b498-4e1273c923e9",
   "metadata": {},
   "source": [
    "<b> Q6. Median value of horsepower </b>\n",
    "\n",
    "\n",
    "<b> Find the median value of horsepower column in the dataset.</b>\n"
   ]
  },
  {
   "cell_type": "code",
   "execution_count": 16,
   "id": "5f712198-e512-44ac-949d-7d8d1a41f898",
   "metadata": {},
   "outputs": [
    {
     "data": {
      "text/plain": [
       "np.float64(149.0)"
      ]
     },
     "execution_count": 16,
     "metadata": {},
     "output_type": "execute_result"
    }
   ],
   "source": [
    "df['horsepower'].median()"
   ]
  },
  {
   "cell_type": "markdown",
   "id": "2ccef7a0-31e5-4b32-9d7a-35ff6846f06c",
   "metadata": {},
   "source": [
    "<b> Next, calculate the most frequent value of the same horsepower column.<br>\n",
    "It is 152 </b>"
   ]
  },
  {
   "cell_type": "code",
   "execution_count": 13,
   "id": "6f6c56f5-efba-4e93-93b8-c747d20ec86f",
   "metadata": {},
   "outputs": [
    {
     "name": "stdout",
     "output_type": "stream",
     "text": [
      "0    152.0\n",
      "Name: horsepower, dtype: float64\n"
     ]
    }
   ],
   "source": [
    "most_frequent = df['horsepower'].mode()\n",
    "print(most_frequent)"
   ]
  },
  {
   "cell_type": "markdown",
   "id": "714b8f7c-ce32-4b11-9813-f8c8b5d2ad9b",
   "metadata": {},
   "source": [
    "<b> Filled missing values with 152. Then found the median . New Median is 152 which has increased </b>"
   ]
  },
  {
   "cell_type": "code",
   "execution_count": 14,
   "id": "a646a768-ef1e-4f74-945a-2c44c0ee5ae0",
   "metadata": {},
   "outputs": [
    {
     "data": {
      "text/plain": [
       "np.float64(152.0)"
      ]
     },
     "execution_count": 14,
     "metadata": {},
     "output_type": "execute_result"
    }
   ],
   "source": [
    "df['horsepower'] = df['horsepower'].fillna(152)\n",
    "df['horsepower'].median()"
   ]
  },
  {
   "cell_type": "markdown",
   "id": "c49c3f4d-9033-4fc7-994c-9cfda11cbea6",
   "metadata": {},
   "source": [
    "<b>Q7. Sum of weights<br>\n",
    "   Ans:0.51\n",
    "</b>"
   ]
  },
  {
   "cell_type": "markdown",
   "id": "e39ab77f-cd7b-469a-aa63-4904e6bb5aba",
   "metadata": {},
   "source": [
    "<b> Select all the cars from Asia <br>\n",
    "Select only columns vehicle_weight and model_year <br>\n",
    "Select the first 7 values <br>\n",
    "Get the underlying NumPy array. Let's call it X.<br>\n",
    "</b>\n",
    "\n"
   ]
  },
  {
   "cell_type": "code",
   "execution_count": 17,
   "id": "f0d8f4ad-a99f-4ad4-8ff3-5c0c5e85e58c",
   "metadata": {},
   "outputs": [
    {
     "data": {
      "text/plain": [
       "array([[2714.21930965, 2016.        ],\n",
       "       [2783.86897424, 2010.        ],\n",
       "       [3582.68736772, 2007.        ],\n",
       "       [2231.8081416 , 2011.        ],\n",
       "       [2659.43145076, 2016.        ],\n",
       "       [2844.22753389, 2014.        ],\n",
       "       [3761.99403819, 2019.        ]])"
      ]
     },
     "execution_count": 17,
     "metadata": {},
     "output_type": "execute_result"
    }
   ],
   "source": [
    "X = df[(df['origin'] == 'Asia')][['vehicle_weight', 'model_year']].head(7).values\n",
    "X"
   ]
  },
  {
   "cell_type": "markdown",
   "id": "c8e42287-2182-43af-917c-fd4db88228e5",
   "metadata": {},
   "source": [
    "<b> To get the transpose, use X.T</b>"
   ]
  },
  {
   "cell_type": "code",
   "execution_count": 20,
   "id": "0b460928-76fe-427e-9324-76bfd7fab619",
   "metadata": {},
   "outputs": [],
   "source": [
    "XT = X.T"
   ]
  },
  {
   "cell_type": "markdown",
   "id": "30675558-b114-46be-a46f-5fad03be3053",
   "metadata": {},
   "source": [
    "<b> Compute matrix-matrix multiplication between the transpose of X and X. Let's call the result XTX </b>"
   ]
  },
  {
   "cell_type": "code",
   "execution_count": 21,
   "id": "0bcd1c18-c507-4685-beed-36484b7c28ef",
   "metadata": {},
   "outputs": [
    {
     "data": {
      "text/plain": [
       "array([[62248334.33150762, 41431216.5073268 ],\n",
       "       [41431216.5073268 , 28373339.        ]])"
      ]
     },
     "execution_count": 21,
     "metadata": {},
     "output_type": "execute_result"
    }
   ],
   "source": [
    "XTX = np.dot(XT, X)\n",
    "XTX"
   ]
  },
  {
   "cell_type": "markdown",
   "id": "cbb936ce-0ca6-4ed7-b2e9-ab28066c5847",
   "metadata": {},
   "source": [
    "<b>Invert XTX.</b>"
   ]
  },
  {
   "cell_type": "code",
   "execution_count": 88,
   "id": "e0fb9db0-09ed-4468-89ac-61007d986cd5",
   "metadata": {},
   "outputs": [
    {
     "data": {
      "text/plain": [
       "array([[ 5.71497081e-07, -8.34509443e-07],\n",
       "       [-8.34509443e-07,  1.25380877e-06]])"
      ]
     },
     "execution_count": 88,
     "metadata": {},
     "output_type": "execute_result"
    }
   ],
   "source": [
    "XTX_inverse = np.linalg.inv(XTX)\n",
    "XTX_inverse"
   ]
  },
  {
   "cell_type": "markdown",
   "id": "6ce3ec81-4d8c-415d-ae32-4a2de67a806d",
   "metadata": {},
   "source": [
    "<b>Create an array y with values [1100, 1300, 800, 900, 1000, 1100, 1200].</b>"
   ]
  },
  {
   "cell_type": "code",
   "execution_count": 89,
   "id": "7f3f78dc-3342-4818-997c-d58ea6e85267",
   "metadata": {},
   "outputs": [
    {
     "data": {
      "text/plain": [
       "array([1100, 1300,  800,  900, 1000, 1100, 1200])"
      ]
     },
     "execution_count": 89,
     "metadata": {},
     "output_type": "execute_result"
    }
   ],
   "source": [
    "y= np.array([1100, 1300, 800, 900, 1000, 1100, 1200])\n",
    "y"
   ]
  },
  {
   "cell_type": "markdown",
   "id": "c5b46677-9a58-4fe4-82c2-59ef74a7d7fa",
   "metadata": {},
   "source": [
    "<b> Multiply the inverse of XTX with the transpose of X, and then multiply the result by y. Call the result w.</b>"
   ]
  },
  {
   "cell_type": "code",
   "execution_count": 90,
   "id": "64f61440-7481-4c3d-be88-372ca0f07a6a",
   "metadata": {},
   "outputs": [
    {
     "data": {
      "text/plain": [
       "array([[-1.31202622e-04, -8.63909858e-05,  3.72634923e-04,\n",
       "        -4.02726650e-04, -1.62513724e-04, -5.52342829e-05,\n",
       "         4.65094049e-04],\n",
       "       [ 2.62636846e-04,  1.96990690e-04, -4.73392228e-04,\n",
       "         6.58944477e-04,  3.08357831e-04,  1.51636137e-04,\n",
       "        -6.07979633e-04]])"
      ]
     },
     "execution_count": 90,
     "metadata": {},
     "output_type": "execute_result"
    }
   ],
   "source": [
    "XTX_final = np.dot(XTX_inverse, XT)\n",
    "XTX_final"
   ]
  },
  {
   "cell_type": "code",
   "execution_count": 91,
   "id": "72fc62a8-a003-4d4f-9963-eef7d16f7a0d",
   "metadata": {},
   "outputs": [
    {
     "data": {
      "text/plain": [
       "array([0.01386421, 0.5049067 ])"
      ]
     },
     "execution_count": 91,
     "metadata": {},
     "output_type": "execute_result"
    }
   ],
   "source": [
    "w = np.dot(XTX_final, y)\n",
    "w"
   ]
  },
  {
   "cell_type": "markdown",
   "id": "46bf26d1-e158-4e23-bd8e-35b3375efcd6",
   "metadata": {},
   "source": [
    "<b>What's the sum of all the elements of the result?</b>"
   ]
  },
  {
   "cell_type": "code",
   "execution_count": 92,
   "id": "8907b2fb-ac59-47b5-a7d0-04b0b6bd4908",
   "metadata": {},
   "outputs": [
    {
     "data": {
      "text/plain": [
       "np.float64(0.5187709081074016)"
      ]
     },
     "execution_count": 92,
     "metadata": {},
     "output_type": "execute_result"
    }
   ],
   "source": [
    "w.sum()"
   ]
  },
  {
   "cell_type": "code",
   "execution_count": null,
   "id": "c17504c8-666b-476e-ab8a-6a9a33a52705",
   "metadata": {},
   "outputs": [],
   "source": []
  }
 ],
 "metadata": {
  "kernelspec": {
   "display_name": "Python 3 (ipykernel)",
   "language": "python",
   "name": "python3"
  },
  "language_info": {
   "codemirror_mode": {
    "name": "ipython",
    "version": 3
   },
   "file_extension": ".py",
   "mimetype": "text/x-python",
   "name": "python",
   "nbconvert_exporter": "python",
   "pygments_lexer": "ipython3",
   "version": "3.12.1"
  }
 },
 "nbformat": 4,
 "nbformat_minor": 5
}
